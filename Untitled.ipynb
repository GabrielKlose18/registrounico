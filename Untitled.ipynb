{
  "cells": [
    {
      "metadata": {
        "trusted": true
      },
      "cell_type": "code",
      "source": "# 02_create_schema.py\nimport sqlite3\n\n# conectando...\nconn = sqlite3.connect('registrounico.db')\n# definindo um cursor\ncursor = conn.cursor()\n\n# criando a tabela (schema)\ncursor.execute(\"\"\"\nCREATE TABLE `paciente` (\n  `cd_paciente` INTEGER NOT NULL PRIMARY KEY AUTOINCREMENT,\n  `ds_paciente_nome` varchar(400) DEFAULT NULL,\n  `ds_paciente_cpf` varchar(200) DEFAULT NULL,\n  `ds_paciente_endereco` varchar(400) DEFAULT NULL,\n  `dt_paciente_nascimento` date DEFAULT NULL\n)\n\"\"\")\n\nprint('Tabela criada com sucesso.')\n# desconectando...\nconn.close()",
      "execution_count": 13,
      "outputs": [
        {
          "output_type": "stream",
          "text": "Tabela criada com sucesso.\n",
          "name": "stdout"
        }
      ]
    },
    {
      "metadata": {
        "trusted": true
      },
      "cell_type": "code",
      "source": "",
      "execution_count": null,
      "outputs": []
    }
  ],
  "metadata": {
    "kernelspec": {
      "name": "python36",
      "display_name": "Python 3.6",
      "language": "python"
    },
    "language_info": {
      "mimetype": "text/x-python",
      "nbconvert_exporter": "python",
      "name": "python",
      "pygments_lexer": "ipython3",
      "version": "3.6.6",
      "file_extension": ".py",
      "codemirror_mode": {
        "version": 3,
        "name": "ipython"
      }
    }
  },
  "nbformat": 4,
  "nbformat_minor": 1
}